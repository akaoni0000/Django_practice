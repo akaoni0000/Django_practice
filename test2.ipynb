{
 "cells": [
  {
   "cell_type": "code",
   "execution_count": null,
   "id": "64a041a3",
   "metadata": {},
   "outputs": [],
   "source": []
  },
  {
   "cell_type": "code",
   "execution_count": null,
   "id": "7aef61ab",
   "metadata": {},
   "outputs": [],
   "source": [
    "#ファイルを特定するにはユーザーIDとファイル名番号が必要\n",
    "path=\"samplesns/static/files/u{}/{}.json\".format(1,3)"
   ]
  },
  {
   "cell_type": "code",
   "execution_count": null,
   "id": "23cf0f5e",
   "metadata": {},
   "outputs": [],
   "source": []
  },
  {
   "cell_type": "code",
   "execution_count": null,
   "id": "7cfb7b4c",
   "metadata": {},
   "outputs": [],
   "source": []
  },
  {
   "cell_type": "code",
   "execution_count": null,
   "id": "6dc2037c",
   "metadata": {},
   "outputs": [],
   "source": [
    "#ファイルを特定するにはユーザーIDとファイル名番号が必要 create_good\n",
    "path=\"samplesns/static/files/u{}/{}.json\".format(1,25)\n",
    "with open(file=path,mode=\"r\",encoding=\"utf-8\") as f:\n",
    "    data = json.load(f)\n",
    "    #import pdb; pdb.set_trace()\n",
    "    data[\"good\"].append(7)\n",
    "\n",
    "with open(file=path,mode=\"w\", encoding=\"utf-8\") as f:\n",
    "    json.dump(data,f,ensure_ascii=False)\n",
    "\n"
   ]
  },
  {
   "cell_type": "code",
   "execution_count": null,
   "id": "e6c3c3d8",
   "metadata": {},
   "outputs": [],
   "source": [
    "#delete_good\n",
    "\n",
    "path=\"samplesns/static/files/u{}/{}.json\".format(1,25)\n",
    "with open(file=path,mode=\"r\",encoding=\"utf-8\") as f:\n",
    "    data = json.load(f)\n",
    "    #import pdb; pdb.set_trace()\n",
    "    data[\"good\"].remove(7)\n",
    "\n",
    "with open(file=path,mode=\"w\", encoding=\"utf-8\") as f:\n",
    "    json.dump(data,f,ensure_ascii=False)\n",
    "\n",
    "return JsonResponse({\"status\": \"success\",\"html\":html})"
   ]
  },
  {
   "cell_type": "code",
   "execution_count": null,
   "id": "9a455064",
   "metadata": {},
   "outputs": [],
   "source": [
    "<p>{{ page.good_count }}</p>\n",
    "{% if good_or_delete %}\n",
    "    <a href=\"{% url 'diary:good_delete' page.id%}\" class=\"btn btn-primary favorite_button\">いいねをキャンセル</a>\n",
    "{% else %}\n",
    "    <a href=\"{% url 'diary:good' page.id%}\" class=\"btn btn-primary favorite_button\">いいね</a>\n",
    "{% endif %}"
   ]
  },
  {
   "cell_type": "code",
   "execution_count": null,
   "id": "f94620ae",
   "metadata": {},
   "outputs": [],
   "source": []
  },
  {
   "cell_type": "code",
   "execution_count": null,
   "id": "e1584afe",
   "metadata": {},
   "outputs": [],
   "source": []
  }
 ],
 "metadata": {
  "language_info": {
   "name": "python"
  }
 },
 "nbformat": 4,
 "nbformat_minor": 5
}
